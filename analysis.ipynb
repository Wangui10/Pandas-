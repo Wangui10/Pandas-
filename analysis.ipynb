{
 "cells": [
  {
   "cell_type": "markdown",
   "id": "f0d5a77c",
   "metadata": {},
   "source": [
    "# DATA UNDERSTANDING"
   ]
  }
 ],
 "metadata": {
  "language_info": {
   "name": "python"
  }
 },
 "nbformat": 4,
 "nbformat_minor": 5
}
