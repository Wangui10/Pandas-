{
 "cells": [
  {
   "cell_type": "markdown",
   "id": "73beea4a",
   "metadata": {},
   "source": [
    "# BUSINESS UNDERSTANDING"
   ]
  }
 ],
 "metadata": {
  "language_info": {
   "name": "python"
  }
 },
 "nbformat": 4,
 "nbformat_minor": 5
}
